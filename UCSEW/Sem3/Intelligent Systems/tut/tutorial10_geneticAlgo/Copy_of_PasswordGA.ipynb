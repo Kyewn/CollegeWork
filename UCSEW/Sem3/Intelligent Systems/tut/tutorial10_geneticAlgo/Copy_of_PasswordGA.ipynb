{
  "cells": [
    {
      "cell_type": "code",
      "execution_count": 1,
      "metadata": {
        "id": "gOzghLZOFkiN"
      },
      "outputs": [],
      "source": [
        "import random\n",
        "\n",
        "password = \"AJMPtKUAxmLLus6lBLAm4WWNBQhzobgFsmODlTUrUaP8cVBu7dXgXbipkc2sUFd8gdNefwdrpRrUIiv7ma1pfjJioV1emz2gv8ha3SrdeHXKNgG0gxdmGNsSyjXJGNP0LW0ECgFELqcpwIfB3iLxV3gia3PHGuvgelIEpe61u8gPHlgArPYbI4jIVYdpgytiI2KX6GOoEU1935ylKmmgetNXfQajdupLkZwetbsVTiVNdhWMr6StptgsaeBbyQKI\"\n",
        "genes = \"0123456789abcdefghijklmnopqrstuvwxyzABCDEFGHIJKLMNOPQRSTUVWXYZ\"\n",
        "\n"
      ]
    },
    {
      "cell_type": "code",
      "execution_count": 2,
      "metadata": {
        "colab": {
          "base_uri": "https://localhost:8080/"
        },
        "id": "XSAhHWYfuz-B",
        "outputId": "92003a3c-7bc7-4db5-9a62-e50a1d37ee56"
      },
      "outputs": [
        {
          "data": {
            "text/plain": [
              "256"
            ]
          },
          "execution_count": 2,
          "metadata": {},
          "output_type": "execute_result"
        }
      ],
      "source": [
        "len(password)"
      ]
    },
    {
      "cell_type": "markdown",
      "metadata": {
        "id": "5ztrZpA8GNXn"
      },
      "source": [
        "Evaluation"
      ]
    },
    {
      "cell_type": "code",
      "execution_count": 3,
      "metadata": {
        "id": "lPtUIdExGYk4"
      },
      "outputs": [],
      "source": [
        "# Evaluate unit score according to rules\n",
        "def evaluate(unit):\n",
        "  score = 0;\n",
        "  for idx, gen in enumerate(unit):\n",
        "    if password[idx] == gen:\n",
        "      score += 1;\n",
        "  return score;\n",
        "\n"
      ]
    },
    {
      "cell_type": "markdown",
      "metadata": {
        "id": "ugpF6eVEGHcU"
      },
      "source": [
        "Selection"
      ]
    },
    {
      "cell_type": "code",
      "execution_count": 4,
      "metadata": {
        "id": "MP1UTv5sUIcy"
      },
      "outputs": [],
      "source": [
        "#Select best subpopulation (size = range) from give population\n",
        "def selectFromPopulation(population, range):\n",
        "  evaluatedPopulation = list(map(evaluate, population));\n",
        "  selection = [];\n",
        "\n",
        "  for idx, value in enumerate(evaluatedPopulation):\n",
        "    selection.append({\n",
        "        'score': value,\n",
        "        'unit': population[idx]\n",
        "    })\n",
        "\n",
        "  def getScore(dict):\n",
        "    return int(dict.get('score'))\n",
        "\n",
        "  selection.sort(key=getScore, reverse=True)\n",
        "  selection = list(map(lambda dict: dict.get('unit'), selection))\n",
        "  return selection[:range];"
      ]
    },
    {
      "cell_type": "code",
      "execution_count": 5,
      "metadata": {
        "id": "y83p82Kx2GG1"
      },
      "outputs": [],
      "source": [
        "# Generate random unit from genes pool\n",
        "def randomUnit():\n",
        "  unit = [];\n",
        "  while len(unit) < len(password):\n",
        "    randomGeneIndex = int(round(random.random() * (len(genes) - 1)));\n",
        "    gene = list(genes)[randomGeneIndex]\n",
        "    unit.append(gene);\n",
        "  return \"\".join(unit)\n",
        "\n",
        "def getRandomInitialPopulation(size):\n",
        "  population = [];\n",
        "  while len(population) < size:\n",
        "    population.append(randomUnit())\n",
        "  return population\n"
      ]
    },
    {
      "cell_type": "markdown",
      "metadata": {
        "id": "2cdyGx6oGJTB"
      },
      "source": [
        "Crossover"
      ]
    },
    {
      "cell_type": "code",
      "execution_count": 6,
      "metadata": {
        "id": "GNJbKRdVSDGf"
      },
      "outputs": [],
      "source": [
        "def breed(unitA, unitB):\n",
        "  listUnitA = list(unitA);\n",
        "  listUnitB = list(unitB);\n",
        "  newUnit = [];\n",
        "  for idx, gene in enumerate(list(unitA)):\n",
        "    if random.random() > 0.5:\n",
        "      newGene = listUnitA[idx];\n",
        "    else:\n",
        "      newGene = listUnitB[idx];\n",
        "    newUnit.append(newGene);\n",
        "  return \"\".join(newUnit)"
      ]
    },
    {
      "cell_type": "code",
      "execution_count": 8,
      "metadata": {
        "id": "ek_iDSi1mRzp"
      },
      "outputs": [],
      "source": [
        "def getRandomBreedPair(population):\n",
        "  population_length = len(population);\n",
        "  firstRandomIndex = int(round(random.random() * (population_length - 1)));\n",
        "  secondRandomIndex = int(round(random.random() * (population_length -1)));\n",
        "  while secondRandomIndex == firstRandomIndex:\n",
        "   secondRandomIndex = int(round(random.random() * (population_length - 1)));\n",
        "  return population[firstRandomIndex], population[secondRandomIndex]"
      ]
    },
    {
      "cell_type": "markdown",
      "metadata": {
        "id": "Fv28EoBDGLrS"
      },
      "source": [
        "Mutation"
      ]
    },
    {
      "cell_type": "code",
      "execution_count": 9,
      "metadata": {
        "id": "gOCvhWN5I4Ff"
      },
      "outputs": [],
      "source": [
        "# Every breed have a chance got mutation on a random gene.\n",
        "MUTATION_RATE = 0.05\n",
        "\n",
        "def isMutating():\n",
        "  chance = random.random();\n",
        "  return chance < MUTATION_RATE"
      ]
    },
    {
      "cell_type": "code",
      "execution_count": 7,
      "metadata": {
        "id": "HCJJQO7PM_lc"
      },
      "outputs": [],
      "source": [
        "#Mutate random gene\n",
        "def mutate(unit):\n",
        "  indexToMutate = int(round(random.random() * (len(unit) - 1)))\n",
        "  mutatedUnit = list(unit);\n",
        "  randomMutationIndex = int(round(random.random() * (len(genes) - 1)));\n",
        "  mutatedUnit[indexToMutate] = list(genes)[randomMutationIndex];\n",
        "  mutatedUnit = \"\".join(mutatedUnit)\n",
        "  return mutatedUnit"
      ]
    },
    {
      "cell_type": "code",
      "execution_count": 10,
      "metadata": {
        "id": "nxKQVRDiq270"
      },
      "outputs": [],
      "source": [
        "# helper function avg population score;\n",
        "import statistics\n",
        "\n",
        "def avgPopulationScore(population):\n",
        "  return statistics.mean(list(map(evaluate, population)))"
      ]
    },
    {
      "cell_type": "code",
      "execution_count": 13,
      "metadata": {
        "colab": {
          "base_uri": "https://localhost:8080/"
        },
        "id": "b5omGsqA0oPa",
        "outputId": "5a5ddd29-68a7-4eb0-c7d7-3ed52739bfd4"
      },
      "outputs": [
        {
          "name": "stdout",
          "output_type": "stream",
          "text": [
            "Generation 1\n",
            "Avg. population score: 13.11\n",
            "Generation 2\n",
            "Avg. population score: 18.269\n",
            "Generation 3\n",
            "Avg. population score: 24.3545\n",
            "Generation 4\n",
            "Avg. population score: 31.0685\n",
            "Generation 5\n",
            "Avg. population score: 38.5225\n",
            "Generation 6\n",
            "Avg. population score: 46.693\n",
            "Generation 7\n",
            "Avg. population score: 55.3865\n",
            "Generation 8\n",
            "Avg. population score: 64.0695\n",
            "Generation 9\n",
            "Avg. population score: 73.097\n",
            "Generation 10\n",
            "Avg. population score: 82.244\n",
            "Generation 11\n",
            "Avg. population score: 91.915\n",
            "Generation 12\n",
            "Avg. population score: 101.143\n",
            "Generation 13\n",
            "Avg. population score: 110.556\n",
            "Generation 14\n",
            "Avg. population score: 119.528\n",
            "Generation 15\n",
            "Avg. population score: 128.612\n",
            "Generation 16\n",
            "Avg. population score: 136.8055\n",
            "Generation 17\n",
            "Avg. population score: 145.074\n",
            "Generation 18\n",
            "Avg. population score: 152.4895\n",
            "Generation 19\n",
            "Avg. population score: 159.6945\n",
            "Generation 20\n",
            "Avg. population score: 166.429\n",
            "Generation 21\n",
            "Avg. population score: 172.4375\n",
            "Generation 22\n",
            "Avg. population score: 177.6295\n",
            "Generation 23\n",
            "Avg. population score: 181.7855\n",
            "Generation 24\n",
            "Avg. population score: 185.459\n",
            "Generation 25\n",
            "Avg. population score: 188.116\n",
            "Generation 26\n",
            "Avg. population score: 188.964\n",
            "Generation 27\n",
            "Avg. population score: 188.972\n",
            "Generation 28\n",
            "Avg. population score: 188.9635\n",
            "Generation 29\n",
            "Avg. population score: 188.957\n",
            "LJMGtKUAxmLLuC6lBMAm4uWxBQhzObgFBmODlTUqUaP8cYhu7dXgXlipkc2sUFdHgdNef8drpRrKIiv75nMpfjJsoV1e9z29v8hE35rheHjKNgH5gxdYGNsSyjXJGNP9LW2E4gFZLq5wLI6BZIvxVEg3a39HGuv5eiHEpe61X8gPHlgArPYbI4jvVYdpgKtII2KX6uOoEUuEs5yljmmgetNPfQa7dupLkZgFtBYO6iO9phWrr6ttptgsaeBbyQKI\n",
            "[189, 189, 189, 189, 189, 189, 189, 189, 189, 189, 189, 189, 189, 189, 189, 189, 189, 189, 189, 189, 189, 189, 189, 189, 189, 189, 189, 189, 189, 189, 189, 189, 189, 189, 189, 189, 189, 189, 189, 189, 189, 189, 189, 189, 189, 189, 189, 189, 189, 189, 189, 189, 189, 189, 189, 189, 189, 189, 189, 189, 189, 189, 189, 189, 189, 189, 189, 189, 189, 189, 189, 189, 189, 189, 189, 189, 189, 189, 189, 189, 189, 189, 189, 189, 189, 189, 189, 189, 189, 189, 189, 189, 189, 189, 189, 189, 189, 189, 189, 189]\n"
          ]
        }
      ],
      "source": [
        "# Adjustable config\n",
        "POPULATION_SIZE = 2000\n",
        "SELECTION_RANGE = 100\n",
        "\n",
        "# Max number of generations created\n",
        "generations = 30;\n",
        "current_generation = 0;\n",
        "\n",
        "initialPopulation = getRandomInitialPopulation(POPULATION_SIZE);\n",
        "selected = selectFromPopulation(initialPopulation, SELECTION_RANGE);\n",
        "\n",
        "while current_generation < generations:\n",
        "  if len(selected) < 2:\n",
        "    raise NameError('population too low')\n",
        "\n",
        "  nextPopulation = [];\n",
        "  while len(nextPopulation) < POPULATION_SIZE:\n",
        "    unitA, unitB = getRandomBreedPair(selected);\n",
        "    newUnit = breed(unitA, unitB);\n",
        "    if isMutating():\n",
        "      newUnit = mutate(newUnit);\n",
        "    nextPopulation.append(newUnit)\n",
        "\n",
        "  if current_generation % 500:\n",
        "    print('Generation {0}'.format(current_generation))\n",
        "    print('Avg. population score: {0}'.format(avgPopulationScore(nextPopulation)))\n",
        "\n",
        "  selected = selectFromPopulation(nextPopulation, SELECTION_RANGE);\n",
        "  current_generation += 1;\n",
        "  if len(password) in list(map(evaluate, selected)):\n",
        "    print('We got this: {0}'.format(selected[0]))\n",
        "    break\n",
        "\n",
        "\n",
        "print(selected[0]);\n",
        "print(list(map(evaluate, selected)))\n"
      ]
    },
    {
      "cell_type": "code",
      "execution_count": 11,
      "metadata": {
        "id": "UGV2xooXWENx"
      },
      "outputs": [],
      "source": []
    }
  ],
  "metadata": {
    "colab": {
      "provenance": []
    },
    "kernelspec": {
      "display_name": "Python 3 (ipykernel)",
      "language": "python",
      "name": "python3"
    },
    "language_info": {
      "codemirror_mode": {
        "name": "ipython",
        "version": 3
      },
      "file_extension": ".py",
      "mimetype": "text/x-python",
      "name": "python",
      "nbconvert_exporter": "python",
      "pygments_lexer": "ipython3",
      "version": "3.11.5"
    }
  },
  "nbformat": 4,
  "nbformat_minor": 0
}
