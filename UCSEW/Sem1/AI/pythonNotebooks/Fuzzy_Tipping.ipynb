{
 "cells": [
  {
   "cell_type": "code",
   "execution_count": null,
   "metadata": {},
   "outputs": [],
   "source": [
    "\"\"\"\n",
    "==========================================\n",
    "Fuzzy Control Systems: The Tipping Problem\n",
    "==========================================\n",
    "\n",
    "The 'tipping problem' is commonly used to illustrate the power of fuzzy logic\n",
    "principles to generate complex behavior from a compact, intuitive set of\n",
    "expert rules.\n",
    "\n",
    "If you're new to the world of fuzzy control systems, you might want\n",
    "to check out the `Fuzzy Control Primer\n",
    "<../userguide/fuzzy_control_primer.html>`_\n",
    "before reading through this worked example.\n",
    "\n",
    "The Tipping Problem\n",
    "-------------------\n",
    "\n",
    "Let's create a fuzzy control system which models how you might choose to tip\n",
    "at a restaurant.  When tipping, you consider the service and food quality,\n",
    "rated between 0 and 10.  You use this to leave a tip of between 0 and 25%.\n",
    "\n",
    "We would formulate this problem as:\n",
    "\n",
    "* Antecednets (Inputs)\n",
    "   - `service`\n",
    "      * Universe (ie, crisp value range): How good was the service of the wait\n",
    "        staff, on a scale of 0 to 10?\n",
    "      * Fuzzy set (ie, fuzzy value range): poor, acceptable, amazing\n",
    "   - `food quality`\n",
    "      * Universe: How tasty was the food, on a scale of 0 to 10?\n",
    "      * Fuzzy set: bad, decent, great\n",
    "* Consequents (Outputs)\n",
    "   - `tip`\n",
    "      * Universe: How much should we tip, on a scale of 0% to 25%\n",
    "      * Fuzzy set: low, medium, high\n",
    "* Rules\n",
    "   - IF the *service* was good  *or* the *food quality* was good,\n",
    "     THEN the tip will be high.\n",
    "   - IF the *service* was average, THEN the tip will be medium.\n",
    "   - IF the *service* was poor *and* the *food quality* was poor\n",
    "     THEN the tip will be low.\n",
    "* Usage\n",
    "   - If I tell this controller that I rated:\n",
    "      * the service as 9.8, and\n",
    "      * the quality as 6.5,\n",
    "   - it would recommend I leave:\n",
    "      * a 20.2% tip.\n",
    "\n",
    "\n",
    "Creating the Tipping Controller Using the skfuzzy control API\n",
    "-------------------------------------------------------------\n",
    "\n",
    "We can use the `skfuzzy` control system API to model this. First, let's install scikit-fuzzy package \n",
    "\"\"\"\n",
    "\n"
   ]
  },
  {
   "cell_type": "code",
   "execution_count": null,
   "metadata": {},
   "outputs": [],
   "source": [
    "pip install -U scikit-fuzzy\n"
   ]
  },
  {
   "cell_type": "code",
   "execution_count": 1,
   "metadata": {},
   "outputs": [],
   "source": [
    "import numpy as np\n",
    "import skfuzzy as fuzz\n",
    "import matplotlib.pyplot as plt\n",
    "from skfuzzy import control as ctrl"
   ]
  },
  {
   "cell_type": "code",
   "execution_count": null,
   "metadata": {},
   "outputs": [],
   "source": [
    "# New Antecedent/Consequent objects hold universe variables and membership\n",
    "# functions\n",
    "quality = ctrl.Antecedent(np.arange(0, 11, 1), 'quality')\n",
    "service = ctrl.Antecedent(np.arange(0, 11, 1), 'service')\n",
    "tip = ctrl.Consequent(np.arange(0, 26, 1), 'tip')\n",
    "\n",
    "# Auto-membership function population is possible with .automf(3, 5, or 7)\n",
    "service.automf(3)\n",
    "# Custom membership functions can be built interactively with a familiar,\n",
    "# Pythonic API\n",
    "quality['bad'] = fuzz.trimf(quality.universe, [0, 0, 5])\n",
    "quality['decent'] = fuzz.trimf(quality.universe, [0, 4, 10])\n",
    "quality['good'] = fuzz.trimf(quality.universe, [3, 10, 10])\n",
    "\n",
    "# Custom membership functions can be built interactively with a familiar,\n",
    "# Pythonic API\n",
    "tip['low'] = fuzz.trimf(tip.universe, [0, 0, 13])\n",
    "tip['medium'] = fuzz.trimf(tip.universe, [0, 13, 25])\n",
    "tip['high'] = fuzz.trimf(tip.universe, [13, 25, 25])"
   ]
  },
  {
   "cell_type": "code",
   "execution_count": 3,
   "metadata": {},
   "outputs": [
    {
     "data": {
      "text/plain": [
       "array([ 0,  1,  2,  3,  4,  5,  6,  7,  8,  9, 10])"
      ]
     },
     "execution_count": 3,
     "metadata": {},
     "output_type": "execute_result"
    }
   ],
   "source": [
    "quality = np.arange(0, 11, 1)\n",
    "quality"
   ]
  },
  {
   "cell_type": "code",
   "execution_count": null,
   "metadata": {},
   "outputs": [],
   "source": [
    "#To help understand what the membership looks like, use the ``view`` methods.\n",
    "quality['decent'].view()"
   ]
  },
  {
   "cell_type": "code",
   "execution_count": null,
   "metadata": {},
   "outputs": [],
   "source": [
    "service.view()"
   ]
  },
  {
   "cell_type": "code",
   "execution_count": null,
   "metadata": {},
   "outputs": [],
   "source": [
    "tip.view()"
   ]
  },
  {
   "cell_type": "code",
   "execution_count": null,
   "metadata": {},
   "outputs": [],
   "source": [
    "'''Fuzzy rules\n",
    "-----------\n",
    "\n",
    "Now, to make these triangles useful, we define the *fuzzy relationship*\n",
    "between input and output variables. For the purposes of our example, consider\n",
    "three simple rules:\n",
    "\n",
    "1. If the food is poor OR the service is poor, then the tip will be low\n",
    "2. If the service is average, then the tip will be medium\n",
    "3. If the food is good OR the service is good, then the tip will be high.\n",
    "\n",
    "Most people would agree on these rules, but the rules are fuzzy. Mapping the\n",
    "imprecise rules into a defined, actionable tip is a challenge. This is the\n",
    "kind of task at which fuzzy logic excels.\n",
    "\n",
    "'''"
   ]
  },
  {
   "cell_type": "code",
   "execution_count": null,
   "metadata": {},
   "outputs": [],
   "source": [
    "rule1 = ctrl.Rule(quality['average'] | service['poor'], tip['low'])\n",
    "rule2 = ctrl.Rule(service['average'], tip['medium'])\n",
    "rule3 = ctrl.Rule(service['good'] | quality['good'], tip['high'])\n",
    "\n",
    "rule3.view()"
   ]
  },
  {
   "cell_type": "code",
   "execution_count": null,
   "metadata": {},
   "outputs": [],
   "source": [
    "'''Control System Creation and Simulation\n",
    "---------------------------------------\n",
    "\n",
    "Now that we have our rules defined, we can simply create a control system\n",
    "via:\n",
    "'''"
   ]
  },
  {
   "cell_type": "code",
   "execution_count": null,
   "metadata": {},
   "outputs": [],
   "source": [
    "tipping_ctrl = ctrl.ControlSystem([rule1, rule2, rule3])"
   ]
  },
  {
   "cell_type": "code",
   "execution_count": null,
   "metadata": {},
   "outputs": [],
   "source": [
    "'''In order to simulate this control system, we will create a ControlSystemSimulation. \n",
    "Think of this object representing our controller applied to a specific set of cirucmstances. \n",
    "For tipping, this might be tipping Sharon at the local brew-pub. \n",
    "We would create another ControlSystemSimulation when we’re trying to apply our tipping_ctrl for \n",
    "Travis at the cafe because the inputs would be different.'''"
   ]
  },
  {
   "cell_type": "code",
   "execution_count": null,
   "metadata": {},
   "outputs": [],
   "source": [
    "tipping = ctrl.ControlSystemSimulation(tipping_ctrl)"
   ]
  },
  {
   "cell_type": "code",
   "execution_count": null,
   "metadata": {},
   "outputs": [],
   "source": [
    "'''We can now simulate our control system by simply specifying the inputs\n",
    "and calling the ``compute`` method.  Suppose we rated the quality 6.5 out of 10\n",
    "and the service 9.8 of 10.\n",
    "'''"
   ]
  },
  {
   "cell_type": "code",
   "execution_count": null,
   "metadata": {},
   "outputs": [],
   "source": [
    "# Pass inputs to the ControlSystem using Antecedent labels with Pythonic API\n",
    "# Note: if you like passing many inputs all at once, use .inputs(dict_of_data)\n",
    "tipping.input['quality'] = 5.0\n",
    "tipping.input['service'] = 8.0\n",
    "\n",
    "# Crunch the numbers\n",
    "tipping.compute()"
   ]
  },
  {
   "cell_type": "code",
   "execution_count": null,
   "metadata": {},
   "outputs": [],
   "source": [
    "print(tipping.output['tip'])\n",
    "tip.view(sim=tipping)"
   ]
  },
  {
   "cell_type": "code",
   "execution_count": null,
   "metadata": {},
   "outputs": [],
   "source": []
  }
 ],
 "metadata": {
  "kernelspec": {
   "display_name": "Python 3 (ipykernel)",
   "language": "python",
   "name": "python3"
  },
  "language_info": {
   "codemirror_mode": {
    "name": "ipython",
    "version": 3
   },
   "file_extension": ".py",
   "mimetype": "text/x-python",
   "name": "python",
   "nbconvert_exporter": "python",
   "pygments_lexer": "ipython3",
   "version": "3.9.13"
  }
 },
 "nbformat": 4,
 "nbformat_minor": 4
}
