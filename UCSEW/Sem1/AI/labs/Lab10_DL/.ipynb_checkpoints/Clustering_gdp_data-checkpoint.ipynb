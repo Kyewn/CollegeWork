{
 "cells": [
  {
   "cell_type": "code",
   "execution_count": 1,
   "metadata": {},
   "outputs": [
    {
     "data": {
      "text/html": [
       "<div>\n",
       "<style scoped>\n",
       "    .dataframe tbody tr th:only-of-type {\n",
       "        vertical-align: middle;\n",
       "    }\n",
       "\n",
       "    .dataframe tbody tr th {\n",
       "        vertical-align: top;\n",
       "    }\n",
       "\n",
       "    .dataframe thead th {\n",
       "        text-align: right;\n",
       "    }\n",
       "</style>\n",
       "<table border=\"1\" class=\"dataframe\">\n",
       "  <thead>\n",
       "    <tr style=\"text-align: right;\">\n",
       "      <th></th>\n",
       "      <th>Country</th>\n",
       "      <th>Continent</th>\n",
       "      <th>GDP_PPP_2017</th>\n",
       "      <th>GDP_Real_Growth_Rate_2017</th>\n",
       "      <th>GDP_per_capita_PPP_2017</th>\n",
       "    </tr>\n",
       "  </thead>\n",
       "  <tbody>\n",
       "    <tr>\n",
       "      <th>0</th>\n",
       "      <td>Afghanistan</td>\n",
       "      <td>Asia</td>\n",
       "      <td>6.945000e+10</td>\n",
       "      <td>2.7</td>\n",
       "      <td>2000.0</td>\n",
       "    </tr>\n",
       "    <tr>\n",
       "      <th>1</th>\n",
       "      <td>Albania</td>\n",
       "      <td>Europe</td>\n",
       "      <td>3.601000e+10</td>\n",
       "      <td>3.8</td>\n",
       "      <td>12500.0</td>\n",
       "    </tr>\n",
       "    <tr>\n",
       "      <th>2</th>\n",
       "      <td>Algeria</td>\n",
       "      <td>Africa</td>\n",
       "      <td>6.300000e+11</td>\n",
       "      <td>1.4</td>\n",
       "      <td>15200.0</td>\n",
       "    </tr>\n",
       "    <tr>\n",
       "      <th>3</th>\n",
       "      <td>American Samoa</td>\n",
       "      <td>Oceania</td>\n",
       "      <td>6.580000e+08</td>\n",
       "      <td>-2.5</td>\n",
       "      <td>11200.0</td>\n",
       "    </tr>\n",
       "    <tr>\n",
       "      <th>4</th>\n",
       "      <td>Andorra</td>\n",
       "      <td>Europe</td>\n",
       "      <td>3.327000e+09</td>\n",
       "      <td>-1.1</td>\n",
       "      <td>49900.0</td>\n",
       "    </tr>\n",
       "  </tbody>\n",
       "</table>\n",
       "</div>"
      ],
      "text/plain": [
       "          Country Continent  GDP_PPP_2017  GDP_Real_Growth_Rate_2017  \\\n",
       "0     Afghanistan      Asia  6.945000e+10                        2.7   \n",
       "1         Albania    Europe  3.601000e+10                        3.8   \n",
       "2         Algeria    Africa  6.300000e+11                        1.4   \n",
       "3  American Samoa   Oceania  6.580000e+08                       -2.5   \n",
       "4         Andorra    Europe  3.327000e+09                       -1.1   \n",
       "\n",
       "   GDP_per_capita_PPP_2017  \n",
       "0                   2000.0  \n",
       "1                  12500.0  \n",
       "2                  15200.0  \n",
       "3                  11200.0  \n",
       "4                  49900.0  "
      ]
     },
     "execution_count": 1,
     "metadata": {},
     "output_type": "execute_result"
    }
   ],
   "source": [
    "import pandas as pd\n",
    "import numpy as np\n",
    "import matplotlib.pyplot as plt\n",
    "df = pd.read_csv('gdp_data.csv')\n",
    "df.head()"
   ]
  },
  {
   "cell_type": "code",
   "execution_count": 2,
   "metadata": {},
   "outputs": [
    {
     "data": {
      "text/plain": [
       "(103, 5)"
      ]
     },
     "execution_count": 2,
     "metadata": {},
     "output_type": "execute_result"
    }
   ],
   "source": [
    "# We want to cluster the countries from continents Africa and Europe\n",
    "select_region = ['Africa','Europe']\n",
    "# Filtering based on continent column\n",
    "df = df[df['Continent'].isin(select_region)]\n",
    "df.shape"
   ]
  },
  {
   "cell_type": "code",
   "execution_count": 3,
   "metadata": {},
   "outputs": [
    {
     "data": {
      "text/plain": [
       "Country                      0\n",
       "Continent                    0\n",
       "GDP_PPP_2017                 1\n",
       "GDP_Real_Growth_Rate_2017    4\n",
       "GDP_per_capita_PPP_2017      2\n",
       "dtype: int64"
      ]
     },
     "execution_count": 3,
     "metadata": {},
     "output_type": "execute_result"
    }
   ],
   "source": [
    "# NaN - missing values\n",
    "df.isnull().sum()"
   ]
  },
  {
   "cell_type": "code",
   "execution_count": 7,
   "metadata": {},
   "outputs": [
    {
     "data": {
      "text/html": [
       "<div>\n",
       "<style scoped>\n",
       "    .dataframe tbody tr th:only-of-type {\n",
       "        vertical-align: middle;\n",
       "    }\n",
       "\n",
       "    .dataframe tbody tr th {\n",
       "        vertical-align: top;\n",
       "    }\n",
       "\n",
       "    .dataframe thead th {\n",
       "        text-align: right;\n",
       "    }\n",
       "</style>\n",
       "<table border=\"1\" class=\"dataframe\">\n",
       "  <thead>\n",
       "    <tr style=\"text-align: right;\">\n",
       "      <th></th>\n",
       "      <th>Country</th>\n",
       "      <th>Continent</th>\n",
       "      <th>GDP_PPP_2017</th>\n",
       "      <th>GDP_Real_Growth_Rate_2017</th>\n",
       "      <th>GDP_per_capita_PPP_2017</th>\n",
       "    </tr>\n",
       "  </thead>\n",
       "  <tbody>\n",
       "    <tr>\n",
       "      <th>1</th>\n",
       "      <td>Albania</td>\n",
       "      <td>Europe</td>\n",
       "      <td>3.601000e+10</td>\n",
       "      <td>3.8</td>\n",
       "      <td>12500.0</td>\n",
       "    </tr>\n",
       "    <tr>\n",
       "      <th>2</th>\n",
       "      <td>Algeria</td>\n",
       "      <td>Africa</td>\n",
       "      <td>6.300000e+11</td>\n",
       "      <td>1.4</td>\n",
       "      <td>15200.0</td>\n",
       "    </tr>\n",
       "    <tr>\n",
       "      <th>4</th>\n",
       "      <td>Andorra</td>\n",
       "      <td>Europe</td>\n",
       "      <td>3.327000e+09</td>\n",
       "      <td>-1.1</td>\n",
       "      <td>49900.0</td>\n",
       "    </tr>\n",
       "    <tr>\n",
       "      <th>5</th>\n",
       "      <td>Angola</td>\n",
       "      <td>Africa</td>\n",
       "      <td>1.936000e+11</td>\n",
       "      <td>-2.5</td>\n",
       "      <td>6800.0</td>\n",
       "    </tr>\n",
       "    <tr>\n",
       "      <th>14</th>\n",
       "      <td>Austria</td>\n",
       "      <td>Europe</td>\n",
       "      <td>4.410000e+11</td>\n",
       "      <td>3.0</td>\n",
       "      <td>50000.0</td>\n",
       "    </tr>\n",
       "    <tr>\n",
       "      <th>...</th>\n",
       "      <td>...</td>\n",
       "      <td>...</td>\n",
       "      <td>...</td>\n",
       "      <td>...</td>\n",
       "      <td>...</td>\n",
       "    </tr>\n",
       "    <tr>\n",
       "      <th>233</th>\n",
       "      <td>Uganda</td>\n",
       "      <td>Africa</td>\n",
       "      <td>8.919000e+10</td>\n",
       "      <td>4.8</td>\n",
       "      <td>2400.0</td>\n",
       "    </tr>\n",
       "    <tr>\n",
       "      <th>236</th>\n",
       "      <td>United Kingdom</td>\n",
       "      <td>Europe</td>\n",
       "      <td>2.925000e+12</td>\n",
       "      <td>1.7</td>\n",
       "      <td>44300.0</td>\n",
       "    </tr>\n",
       "    <tr>\n",
       "      <th>249</th>\n",
       "      <td>Zambia</td>\n",
       "      <td>Africa</td>\n",
       "      <td>6.893000e+10</td>\n",
       "      <td>3.4</td>\n",
       "      <td>4000.0</td>\n",
       "    </tr>\n",
       "    <tr>\n",
       "      <th>250</th>\n",
       "      <td>Zimbabwe</td>\n",
       "      <td>Africa</td>\n",
       "      <td>3.427000e+10</td>\n",
       "      <td>3.7</td>\n",
       "      <td>2300.0</td>\n",
       "    </tr>\n",
       "    <tr>\n",
       "      <th>251</th>\n",
       "      <td>European Union</td>\n",
       "      <td>Europe</td>\n",
       "      <td>2.085000e+13</td>\n",
       "      <td>2.3</td>\n",
       "      <td>40900.0</td>\n",
       "    </tr>\n",
       "  </tbody>\n",
       "</table>\n",
       "<p>98 rows × 5 columns</p>\n",
       "</div>"
      ],
      "text/plain": [
       "            Country Continent  GDP_PPP_2017  GDP_Real_Growth_Rate_2017  \\\n",
       "1           Albania    Europe  3.601000e+10                        3.8   \n",
       "2           Algeria    Africa  6.300000e+11                        1.4   \n",
       "4           Andorra    Europe  3.327000e+09                       -1.1   \n",
       "5            Angola    Africa  1.936000e+11                       -2.5   \n",
       "14          Austria    Europe  4.410000e+11                        3.0   \n",
       "..              ...       ...           ...                        ...   \n",
       "233          Uganda    Africa  8.919000e+10                        4.8   \n",
       "236  United Kingdom    Europe  2.925000e+12                        1.7   \n",
       "249          Zambia    Africa  6.893000e+10                        3.4   \n",
       "250        Zimbabwe    Africa  3.427000e+10                        3.7   \n",
       "251  European Union    Europe  2.085000e+13                        2.3   \n",
       "\n",
       "     GDP_per_capita_PPP_2017  \n",
       "1                    12500.0  \n",
       "2                    15200.0  \n",
       "4                    49900.0  \n",
       "5                     6800.0  \n",
       "14                   50000.0  \n",
       "..                       ...  \n",
       "233                   2400.0  \n",
       "236                  44300.0  \n",
       "249                   4000.0  \n",
       "250                   2300.0  \n",
       "251                  40900.0  \n",
       "\n",
       "[98 rows x 5 columns]"
      ]
     },
     "execution_count": 7,
     "metadata": {},
     "output_type": "execute_result"
    }
   ],
   "source": [
    "# Dropping missing values\n",
    "df = df.dropna()\n",
    "df.shape\n",
    "df"
   ]
  },
  {
   "cell_type": "code",
   "execution_count": 8,
   "metadata": {},
   "outputs": [],
   "source": [
    "# subset the dataframe with all rows except row country  value 'European Union', which is not a country\n",
    "df = df[df['Country'] != 'European Union']"
   ]
  },
  {
   "cell_type": "code",
   "execution_count": 10,
   "metadata": {},
   "outputs": [
    {
     "data": {
      "text/html": [
       "<div>\n",
       "<style scoped>\n",
       "    .dataframe tbody tr th:only-of-type {\n",
       "        vertical-align: middle;\n",
       "    }\n",
       "\n",
       "    .dataframe tbody tr th {\n",
       "        vertical-align: top;\n",
       "    }\n",
       "\n",
       "    .dataframe thead th {\n",
       "        text-align: right;\n",
       "    }\n",
       "</style>\n",
       "<table border=\"1\" class=\"dataframe\">\n",
       "  <thead>\n",
       "    <tr style=\"text-align: right;\">\n",
       "      <th></th>\n",
       "      <th>Country</th>\n",
       "      <th>Continent</th>\n",
       "      <th>GDP_PPP_2017</th>\n",
       "      <th>GDP_Real_Growth_Rate_2017</th>\n",
       "      <th>GDP_per_capita_PPP_2017</th>\n",
       "    </tr>\n",
       "  </thead>\n",
       "  <tbody>\n",
       "    <tr>\n",
       "      <th>0</th>\n",
       "      <td>Albania</td>\n",
       "      <td>Europe</td>\n",
       "      <td>3.601000e+10</td>\n",
       "      <td>3.8</td>\n",
       "      <td>12500.0</td>\n",
       "    </tr>\n",
       "    <tr>\n",
       "      <th>1</th>\n",
       "      <td>Algeria</td>\n",
       "      <td>Africa</td>\n",
       "      <td>6.300000e+11</td>\n",
       "      <td>1.4</td>\n",
       "      <td>15200.0</td>\n",
       "    </tr>\n",
       "    <tr>\n",
       "      <th>2</th>\n",
       "      <td>Andorra</td>\n",
       "      <td>Europe</td>\n",
       "      <td>3.327000e+09</td>\n",
       "      <td>-1.1</td>\n",
       "      <td>49900.0</td>\n",
       "    </tr>\n",
       "    <tr>\n",
       "      <th>3</th>\n",
       "      <td>Angola</td>\n",
       "      <td>Africa</td>\n",
       "      <td>1.936000e+11</td>\n",
       "      <td>-2.5</td>\n",
       "      <td>6800.0</td>\n",
       "    </tr>\n",
       "    <tr>\n",
       "      <th>4</th>\n",
       "      <td>Austria</td>\n",
       "      <td>Europe</td>\n",
       "      <td>4.410000e+11</td>\n",
       "      <td>3.0</td>\n",
       "      <td>50000.0</td>\n",
       "    </tr>\n",
       "    <tr>\n",
       "      <th>...</th>\n",
       "      <td>...</td>\n",
       "      <td>...</td>\n",
       "      <td>...</td>\n",
       "      <td>...</td>\n",
       "      <td>...</td>\n",
       "    </tr>\n",
       "    <tr>\n",
       "      <th>92</th>\n",
       "      <td>Tunisia</td>\n",
       "      <td>Africa</td>\n",
       "      <td>1.377000e+11</td>\n",
       "      <td>2.0</td>\n",
       "      <td>11900.0</td>\n",
       "    </tr>\n",
       "    <tr>\n",
       "      <th>93</th>\n",
       "      <td>Uganda</td>\n",
       "      <td>Africa</td>\n",
       "      <td>8.919000e+10</td>\n",
       "      <td>4.8</td>\n",
       "      <td>2400.0</td>\n",
       "    </tr>\n",
       "    <tr>\n",
       "      <th>94</th>\n",
       "      <td>United Kingdom</td>\n",
       "      <td>Europe</td>\n",
       "      <td>2.925000e+12</td>\n",
       "      <td>1.7</td>\n",
       "      <td>44300.0</td>\n",
       "    </tr>\n",
       "    <tr>\n",
       "      <th>95</th>\n",
       "      <td>Zambia</td>\n",
       "      <td>Africa</td>\n",
       "      <td>6.893000e+10</td>\n",
       "      <td>3.4</td>\n",
       "      <td>4000.0</td>\n",
       "    </tr>\n",
       "    <tr>\n",
       "      <th>96</th>\n",
       "      <td>Zimbabwe</td>\n",
       "      <td>Africa</td>\n",
       "      <td>3.427000e+10</td>\n",
       "      <td>3.7</td>\n",
       "      <td>2300.0</td>\n",
       "    </tr>\n",
       "  </tbody>\n",
       "</table>\n",
       "<p>97 rows × 5 columns</p>\n",
       "</div>"
      ],
      "text/plain": [
       "           Country Continent  GDP_PPP_2017  GDP_Real_Growth_Rate_2017  \\\n",
       "0          Albania    Europe  3.601000e+10                        3.8   \n",
       "1          Algeria    Africa  6.300000e+11                        1.4   \n",
       "2          Andorra    Europe  3.327000e+09                       -1.1   \n",
       "3           Angola    Africa  1.936000e+11                       -2.5   \n",
       "4          Austria    Europe  4.410000e+11                        3.0   \n",
       "..             ...       ...           ...                        ...   \n",
       "92         Tunisia    Africa  1.377000e+11                        2.0   \n",
       "93          Uganda    Africa  8.919000e+10                        4.8   \n",
       "94  United Kingdom    Europe  2.925000e+12                        1.7   \n",
       "95          Zambia    Africa  6.893000e+10                        3.4   \n",
       "96        Zimbabwe    Africa  3.427000e+10                        3.7   \n",
       "\n",
       "    GDP_per_capita_PPP_2017  \n",
       "0                   12500.0  \n",
       "1                   15200.0  \n",
       "2                   49900.0  \n",
       "3                    6800.0  \n",
       "4                   50000.0  \n",
       "..                      ...  \n",
       "92                  11900.0  \n",
       "93                   2400.0  \n",
       "94                  44300.0  \n",
       "95                   4000.0  \n",
       "96                   2300.0  \n",
       "\n",
       "[97 rows x 5 columns]"
      ]
     },
     "execution_count": 10,
     "metadata": {},
     "output_type": "execute_result"
    }
   ],
   "source": [
    "# to avoid old index getting added as a column we use drop=True\n",
    "df = df.reset_index(drop=True)\n",
    "df"
   ]
  },
  {
   "cell_type": "code",
   "execution_count": 7,
   "metadata": {},
   "outputs": [
    {
     "name": "stdout",
     "output_type": "stream",
     "text": [
      "[[ 3.601e+10  3.800e+00]\n",
      " [ 6.300e+11  1.400e+00]\n",
      " [ 3.327e+09 -1.100e+00]\n",
      " [ 1.936e+11 -2.500e+00]\n",
      " [ 4.410e+11  3.000e+00]]\n"
     ]
    }
   ],
   "source": [
    "x = df[['GDP_PPP_2017', 'GDP_Real_Growth_Rate_2017']].values\n",
    "y = df['Country'].values\n",
    "print(x[0:5,:])"
   ]
  },
  {
   "cell_type": "code",
   "execution_count": 8,
   "metadata": {},
   "outputs": [
    {
     "name": "stdout",
     "output_type": "stream",
     "text": [
      "[[-0.99972146  0.02360073]\n",
      " [ 0.86505508 -0.50167689]\n",
      " [-0.51925599 -0.85461875]\n",
      " [-0.1307495  -0.99141544]\n",
      " [ 0.93386971 -0.35761344]]\n"
     ]
    }
   ],
   "source": [
    "# Feature Scaling\n",
    "from sklearn.preprocessing import StandardScaler\n",
    "scaler = StandardScaler() #normally fit to -2 to 2\n",
    "x = scaler.fit_transform(x)\n",
    "# Normalizing the Data\n",
    "from sklearn.preprocessing import Normalizer\n",
    "normalizer = Normalizer()   #mean = 0\n",
    "x = normalizer.fit_transform(x)\n",
    "print(x[0:5,:])"
   ]
  },
  {
   "cell_type": "code",
   "execution_count": 9,
   "metadata": {},
   "outputs": [],
   "source": [
    "# DB Scan Clustering, centroid\n",
    "from sklearn.cluster import DBSCAN\n",
    "dbscan = DBSCAN(eps=0.2, min_samples = 4)\n",
    "clusters = dbscan.fit_predict(x)"
   ]
  },
  {
   "cell_type": "code",
   "execution_count": 10,
   "metadata": {},
   "outputs": [
    {
     "data": {
      "text/plain": [
       "{-1, 0, 1}"
      ]
     },
     "execution_count": 10,
     "metadata": {},
     "output_type": "execute_result"
    }
   ],
   "source": [
    "set(clusters)"
   ]
  },
  {
   "cell_type": "code",
   "execution_count": 11,
   "metadata": {},
   "outputs": [
    {
     "data": {
      "text/plain": [
       "['Czechia',\n",
       " 'Denmark',\n",
       " 'Ethiopia',\n",
       " 'Greece',\n",
       " 'Hungary',\n",
       " 'Ireland',\n",
       " 'Libya',\n",
       " 'Morocco',\n",
       " 'Norway',\n",
       " 'Portugal',\n",
       " 'Romania']"
      ]
     },
     "execution_count": 11,
     "metadata": {},
     "output_type": "execute_result"
    }
   ],
   "source": [
    "dbscan_cluster1 = list(y[clusters==0])\n",
    "dbscan_cluster2 = list(y[clusters==1])\n",
    "dbscan_cluster3 = list(y[clusters==2])\n",
    "dbscan_cluster4 = list(y[clusters==-1])\n",
    "dbscan_cluster4"
   ]
  },
  {
   "cell_type": "code",
   "execution_count": 12,
   "metadata": {},
   "outputs": [
    {
     "data": {
      "text/plain": [
       "<matplotlib.collections.PathCollection at 0x1c039e44af0>"
      ]
     },
     "execution_count": 12,
     "metadata": {},
     "output_type": "execute_result"
    },
    {
     "data": {
      "image/png": "[encoded data removed]",
      "text/plain": [
       "<Figure size 432x288 with 1 Axes>"
      ]
     },
     "metadata": {
      "needs_background": "light"
     },
     "output_type": "display_data"
    }
   ],
   "source": [
    "# Plotting the DBSCAN Clusters\n",
    "plt.scatter(df[['GDP_PPP_2017']],df[['GDP_Real_Growth_Rate_2017']], c=clusters, cmap=\"plasma\")"
   ]
  },
  {
   "cell_type": "code",
   "execution_count": 13,
   "metadata": {},
   "outputs": [
    {
     "data": {
      "image/png": "[encoded data removed]",
      "text/plain": [
       "<Figure size 432x288 with 1 Axes>"
      ]
     },
     "metadata": {
      "needs_background": "light"
     },
     "output_type": "display_data"
    }
   ],
   "source": [
    "# K-Means Clustering\n",
    "from sklearn.cluster import KMeans\n",
    "wcss = []\n",
    "for i in range(1,12):\n",
    "    kmeans = KMeans(n_clusters=i, init='k-means++', random_state=42)\n",
    "    kmeans.fit(x)\n",
    "    wcss.append(kmeans.inertia_)    \n",
    "plt.plot(range(1,12), wcss, marker = \"o\")\n",
    "plt.title('Elbow Method - Find Optimum Clusters')\n",
    "plt.show()"
   ]
  },
  {
   "cell_type": "code",
   "execution_count": 14,
   "metadata": {},
   "outputs": [],
   "source": [
    "# Develop the K-Means Clustering Model\n",
    "from sklearn.cluster import KMeans\n",
    "kmeans = KMeans(n_clusters=4, init='k-means++', random_state=42)\n",
    "y_kmeans = kmeans.fit_predict(x)"
   ]
  },
  {
   "cell_type": "code",
   "execution_count": 15,
   "metadata": {},
   "outputs": [
    {
     "data": {
      "text/plain": [
       "{0, 1, 2, 3}"
      ]
     },
     "execution_count": 15,
     "metadata": {},
     "output_type": "execute_result"
    }
   ],
   "source": [
    "set(y_kmeans)"
   ]
  },
  {
   "cell_type": "code",
   "execution_count": 16,
   "metadata": {},
   "outputs": [
    {
     "data": {
      "text/plain": [
       "<matplotlib.collections.PathCollection at 0x1c03c6200d0>"
      ]
     },
     "execution_count": 16,
     "metadata": {},
     "output_type": "execute_result"
    },
    {
     "data": {
      "image/png": "[encoded data removed]",
      "text/plain": [
       "<Figure size 432x288 with 1 Axes>"
      ]
     },
     "metadata": {
      "needs_background": "light"
     },
     "output_type": "display_data"
    }
   ],
   "source": [
    "# Plotting the four clusters - K-Means\n",
    "plt.scatter(df[['GDP_PPP_2017']],df[['GDP_Real_Growth_Rate_2017']], c=y_kmeans, cmap=\"plasma\")"
   ]
  },
  {
   "cell_type": "code",
   "execution_count": 17,
   "metadata": {},
   "outputs": [
    {
     "data": {
      "text/plain": [
       "['Benin',\n",
       " 'Burkina Faso',\n",
       " \"Cote D'Ivoire\",\n",
       " 'Djibouti',\n",
       " 'Eritrea',\n",
       " 'Estonia',\n",
       " 'Ethiopia',\n",
       " 'Faroe Islands',\n",
       " 'Ghana',\n",
       " 'Guinea',\n",
       " 'Guinea-Bissau',\n",
       " 'Ireland',\n",
       " 'Kenya',\n",
       " 'Libya',\n",
       " 'Mali',\n",
       " 'Malta',\n",
       " 'Monaco',\n",
       " 'Niger',\n",
       " 'Rwanda',\n",
       " 'Senegal',\n",
       " 'Seychelles',\n",
       " 'Slovenia',\n",
       " 'Tanzania',\n",
       " 'Uganda']"
      ]
     },
     "execution_count": 17,
     "metadata": {},
     "output_type": "execute_result"
    }
   ],
   "source": [
    "kmeans_cluster1 = list(y[y_kmeans == 0])\n",
    "kmeans_cluster2 = list(y[y_kmeans == 1])\n",
    "kmeans_cluster3 = list(y[y_kmeans == 2])\n",
    "kmeans_cluster4 = list(y[y_kmeans == 3])\n",
    "kmeans_cluster1"
   ]
  },
  {
   "cell_type": "code",
   "execution_count": 18,
   "metadata": {},
   "outputs": [],
   "source": [
    "# We can observe there are outliers in the data\n",
    "# Let us now remove outliers\n",
    "# Finding outliers in column - GDP_PPP_2017\n",
    "Q1 = df['GDP_PPP_2017'].quantile(0.25)\n",
    "Q3 = df['GDP_PPP_2017'].quantile(0.75)\n",
    "IQR = Q3 - Q1    #IQR is interquartile range. \n",
    "\n",
    "filter = (df['GDP_PPP_2017'] >= Q1 - 1.5 * IQR) & (df['GDP_PPP_2017'] <= Q3 + 1.5 *IQR)\n",
    "outliers_gdp_ppp = df.loc[~filter]\n",
    "df = df.loc[filter]"
   ]
  },
  {
   "cell_type": "code",
   "execution_count": 19,
   "metadata": {},
   "outputs": [],
   "source": [
    "# Finding outliers in column - GDP_Real_Growth_Rate_2017\n",
    "Q1 = df['GDP_Real_Growth_Rate_2017'].quantile(0.25)\n",
    "Q3 = df['GDP_Real_Growth_Rate_2017'].quantile(0.75)\n",
    "IQR = Q3 - Q1    #IQR is interquartile range. \n",
    "\n",
    "filter = (df['GDP_Real_Growth_Rate_2017'] >= Q1 - 1.5 * IQR) & (df['GDP_Real_Growth_Rate_2017'] <= Q3 + 1.5 *IQR)\n",
    "outliers_gdp_real_growth = df.loc[~filter]\n",
    "df = df.loc[filter]"
   ]
  },
  {
   "cell_type": "code",
   "execution_count": 20,
   "metadata": {},
   "outputs": [],
   "source": [
    "# Repeat the whole process after removing outliers\n",
    "x = df[['GDP_PPP_2017', 'GDP_Real_Growth_Rate_2017']].values\n",
    "y = df['Country'].values\n",
    "# Feature Scaling\n",
    "from sklearn.preprocessing import StandardScaler\n",
    "scaler = StandardScaler()\n",
    "x = scaler.fit_transform(x)\n",
    "# Normalizing the Data\n",
    "from sklearn.preprocessing import Normalizer\n",
    "normalizer = Normalizer()\n",
    "x = normalizer.fit_transform(x)"
   ]
  },
  {
   "cell_type": "code",
   "execution_count": 21,
   "metadata": {},
   "outputs": [],
   "source": [
    "# Develop the K-Means Clustering Model\n",
    "from sklearn.cluster import KMeans\n",
    "kmeans = KMeans(n_clusters=4, init='k-means++', random_state=42)\n",
    "y_kmeans = kmeans.fit_predict(x)"
   ]
  },
  {
   "cell_type": "code",
   "execution_count": 22,
   "metadata": {},
   "outputs": [
    {
     "data": {
      "text/plain": [
       "{0, 1, 2, 3}"
      ]
     },
     "execution_count": 22,
     "metadata": {},
     "output_type": "execute_result"
    }
   ],
   "source": [
    "set(y_kmeans)"
   ]
  },
  {
   "cell_type": "code",
   "execution_count": 23,
   "metadata": {},
   "outputs": [
    {
     "data": {
      "image/png": "[encoded data removed]",
      "text/plain": [
       "<Figure size 432x288 with 1 Axes>"
      ]
     },
     "metadata": {
      "needs_background": "light"
     },
     "output_type": "display_data"
    }
   ],
   "source": [
    "# Plotting the four clusters - K-Means\n",
    "plt.scatter(df[['GDP_PPP_2017']],df[['GDP_Real_Growth_Rate_2017']], c=y_kmeans, cmap=\"plasma\")\n",
    "plt.title('k-means clusters - without outliers')\n",
    "plt.show()"
   ]
  },
  {
   "cell_type": "code",
   "execution_count": null,
   "metadata": {},
   "outputs": [],
   "source": [
    "kmeans_cluster1_no_outliers = list(y[y_kmeans == 0])\n",
    "kmeans_cluster2_no_outliers = list(y[y_kmeans == 1])\n",
    "kmeans_cluster3_no_outliers= list(y[y_kmeans == 2])\n",
    "kmeans_cluster4_no_outliers = list(y[y_kmeans == 3])\n"
   ]
  },
  {
   "cell_type": "code",
   "execution_count": null,
   "metadata": {},
   "outputs": [],
   "source": [
    "kmeans_cluster4_no_outliers"
   ]
  }
 ],
 "metadata": {
  "kernelspec": {
   "display_name": "Python 3 (ipykernel)",
   "language": "python",
   "name": "python3"
  },
  "language_info": {
   "codemirror_mode": {
    "name": "ipython",
    "version": 3
   },
   "file_extension": ".py",
   "mimetype": "text/x-python",
   "name": "python",
   "nbconvert_exporter": "python",
   "pygments_lexer": "ipython3",
   "version": "3.9.13"
  }
 },
 "nbformat": 4,
 "nbformat_minor": 4
}
